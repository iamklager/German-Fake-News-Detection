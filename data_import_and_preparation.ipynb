{
 "cells": [
  {
   "cell_type": "markdown",
   "id": "e9086b76-24a6-4699-a50b-f7422a8e74f5",
   "metadata": {},
   "source": [
    "# Data Import & Preparation"
   ]
  },
  {
   "cell_type": "markdown",
   "id": "4043e332-8fd9-4dd7-b2a0-609447fcae3b",
   "metadata": {},
   "source": [
    "## German Fake News Dataset"
   ]
  },
  {
   "cell_type": "markdown",
   "id": "54189a7f-6c57-482a-9ef9-9b6c24914c88",
   "metadata": {},
   "source": [
    "#### Reference\n",
    "https://www.kaggle.com/datasets/astoeckl/fake-news-dataset-german"
   ]
  },
  {
   "cell_type": "markdown",
   "id": "b062983d-bf81-4666-a450-7ee64d8eeb8f",
   "metadata": {},
   "source": [
    "#### Importing the .csv-file"
   ]
  },
  {
   "cell_type": "code",
   "execution_count": 1,
   "id": "bd68f215-3202-45f2-a82f-1cbc17b1d600",
   "metadata": {},
   "outputs": [
    {
     "name": "stdout",
     "output_type": "stream",
     "text": [
      "'data.frame':\t63868 obs. of  9 variables:\n",
      " $ id       : int  773233 773234 773235 773236 773237 773238 773239 773240 773241 773242 ...\n",
      " $ url      : chr  \"http://www.der-postillon.com/2018/01/grokoleaks.html\" \"http://www.der-postillon.com/2018/01/trump-sane.html\" \"http://www.der-postillon.com/2018/01/fdp-sondierungen.html\" \"http://www.der-postillon.com/2018/01/joachim-sauer-sauer.html\" ...\n",
      " $ Titel    : chr  \"Exklusiv! Das geheime WhatsApp-Chat-Protokoll der GroKo-Sondierungsgespräche\" \"Trump droht, jeden zu verspeisen, der an seiner geistigen Gesundheit zweifelt\" \"Soli runter, keine Steuererhöhungen, kein Klimaziel! FDP setzt sich in Sondierungen durch\" \"Hat sie eine Affäre? Joachim Sauer glaubt Angela Merkel alberne Sondierungs-Ausrede nicht mehr\" ...\n",
      " $ Body     : chr  \"Die Sondierungsgespräche zwischen Union und SPD endeten mit einem Kompromiss, der nun insbesondere bei den Sozi\"| __truncated__ \"Nun ist es auch medizinisch offiziell bestätigt: Eine militärärztliche Untersuchung hat ergeben, dass Donald Tr\"| __truncated__ \"Es waren zähe Verhandlungen, doch die Freien Demokraten können zufrieden sein: In den Sondierungen zur Großen K\"| __truncated__ \"Wo treibt sie sich immer bis spät in die Nacht herum? Joachim Sauer aus Berlin hat seit einigen Wochen den Verd\"| __truncated__ ...\n",
      " $ Kategorie: chr  \"wirtschaft\" \"wirtschaft\" \"wirtschaft\" \"wirtschaft\" ...\n",
      " $ Datum    : chr  \"2018-01-18 00:00:00\" \"2018-01-17 00:00:00\" \"2018-01-12 00:00:00\" \"2018-01-09 00:00:00\" ...\n",
      " $ Quelle   : chr  \"Postillion\" \"Postillion\" \"Postillion\" \"Postillion\" ...\n",
      " $ Fake     : int  1 1 1 1 1 1 1 1 1 1 ...\n",
      " $ Art      : chr  \"\" \"\" \"\" \"\" ...\n"
     ]
    },
    {
     "data": {
      "text/html": [
       "<table class=\"dataframe\">\n",
       "<caption>A data.frame: 1 × 9</caption>\n",
       "<thead>\n",
       "\t<tr><th></th><th scope=col>id</th><th scope=col>url</th><th scope=col>Titel</th><th scope=col>Body</th><th scope=col>Kategorie</th><th scope=col>Datum</th><th scope=col>Quelle</th><th scope=col>Fake</th><th scope=col>Art</th></tr>\n",
       "\t<tr><th></th><th scope=col>&lt;int&gt;</th><th scope=col>&lt;chr&gt;</th><th scope=col>&lt;chr&gt;</th><th scope=col>&lt;chr&gt;</th><th scope=col>&lt;chr&gt;</th><th scope=col>&lt;chr&gt;</th><th scope=col>&lt;chr&gt;</th><th scope=col>&lt;int&gt;</th><th scope=col>&lt;chr&gt;</th></tr>\n",
       "</thead>\n",
       "<tbody>\n",
       "\t<tr><th scope=row>1</th><td>773233</td><td>http://www.der-postillon.com/2018/01/grokoleaks.html</td><td>Exklusiv! Das geheime WhatsApp-Chat-Protokoll der GroKo-Sondierungsgespräche</td><td>Die Sondierungsgespräche zwischen Union und SPD endeten mit einem Kompromiss, der nun insbesondere bei den Sozialdemokraten heftig diskutiert wird. Wie schon bei den Jamaika-Sondierungen (wir berichteten) wurden dem Postillon von einer anonymen Quelle die geheimen Chat-Protokolle aus der GroKo-WhatsApp-Gruppe der Parteispitzen zugespielt. Wir dokumentieren und kommentieren im Folgenden Leaks (#GroKoLeaks) aus den Sondierungsgesprächen, die tief blicken lassen:\n",
       "\n",
       "\n",
       "Die Gruppenerstellung:\n",
       "\n",
       "Schnell beginnt das harte Ringen um politische Positionen:\n",
       "\n",
       "Nach der zwischenzeitlichen Entfernung von Andrea Nahles kommt es jedoch nur selten zu Verhandlungserfolgen für die SPD:\n",
       "\n",
       "Doch auch kleine technikbedingte Pannen bleiben nicht aus (Andrea Nahles wurde inzwischen wieder hinzugefügt, musste jedoch versprechen, dass sie Beleidigungen und Drohungen auf ein Minimum reduziert):\n",
       "\n",
       "Am vierten Tag der Sondierungen kam es zu diesem Überraschungsauftritt:\n",
       "\n",
       "Es folgen weitere harte  Diskussionen:\n",
       "\n",
       "Auch die WhatsApp-Leaks bei den Jamaika-Sondierungen werden angesprochen:\n",
       "\n",
       "Unser letzter Chat stammt aus der finalen Marathon-Verhandlungsrunde im Willy-Brandt-Haus, die angeblich 26 Stunden dauerte: \n",
       " Foto oben: dpa\n",
       "\n",
       "Lesen Sie auch: \n",
       "Exklusiv! Das geheime WhatsApp-Chat-Protokoll der Jamaika-Sondierungsgespräche</td><td>wirtschaft</td><td>2018-01-18 00:00:00</td><td>Postillion</td><td>1</td><td></td></tr>\n",
       "</tbody>\n",
       "</table>\n"
      ],
      "text/latex": [
       "A data.frame: 1 × 9\n",
       "\\begin{tabular}{r|lllllllll}\n",
       "  & id & url & Titel & Body & Kategorie & Datum & Quelle & Fake & Art\\\\\n",
       "  & <int> & <chr> & <chr> & <chr> & <chr> & <chr> & <chr> & <int> & <chr>\\\\\n",
       "\\hline\n",
       "\t1 & 773233 & http://www.der-postillon.com/2018/01/grokoleaks.html & Exklusiv! Das geheime WhatsApp-Chat-Protokoll der GroKo-Sondierungsgespräche & Die Sondierungsgespräche zwischen Union und SPD endeten mit einem Kompromiss, der nun insbesondere bei den Sozialdemokraten heftig diskutiert wird. Wie schon bei den Jamaika-Sondierungen (wir berichteten) wurden dem Postillon von einer anonymen Quelle die geheimen Chat-Protokolle aus der GroKo-WhatsApp-Gruppe der Parteispitzen zugespielt. Wir dokumentieren und kommentieren im Folgenden Leaks (\\#GroKoLeaks) aus den Sondierungsgesprächen, die tief blicken lassen:\n",
       "\n",
       "\n",
       "Die Gruppenerstellung:\n",
       "\n",
       "Schnell beginnt das harte Ringen um politische Positionen:\n",
       "\n",
       "Nach der zwischenzeitlichen Entfernung von Andrea Nahles kommt es jedoch nur selten zu Verhandlungserfolgen für die SPD:\n",
       "\n",
       "Doch auch kleine technikbedingte Pannen bleiben nicht aus (Andrea Nahles wurde inzwischen wieder hinzugefügt, musste jedoch versprechen, dass sie Beleidigungen und Drohungen auf ein Minimum reduziert):\n",
       "\n",
       "Am vierten Tag der Sondierungen kam es zu diesem Überraschungsauftritt:\n",
       "\n",
       "Es folgen weitere harte  Diskussionen:\n",
       "\n",
       "Auch die WhatsApp-Leaks bei den Jamaika-Sondierungen werden angesprochen:\n",
       "\n",
       "Unser letzter Chat stammt aus der finalen Marathon-Verhandlungsrunde im Willy-Brandt-Haus, die angeblich 26 Stunden dauerte: \n",
       " Foto oben: dpa\n",
       "\n",
       "Lesen Sie auch: \n",
       "Exklusiv! Das geheime WhatsApp-Chat-Protokoll der Jamaika-Sondierungsgespräche & wirtschaft & 2018-01-18 00:00:00 & Postillion & 1 & \\\\\n",
       "\\end{tabular}\n"
      ],
      "text/markdown": [
       "\n",
       "A data.frame: 1 × 9\n",
       "\n",
       "| <!--/--> | id &lt;int&gt; | url &lt;chr&gt; | Titel &lt;chr&gt; | Body &lt;chr&gt; | Kategorie &lt;chr&gt; | Datum &lt;chr&gt; | Quelle &lt;chr&gt; | Fake &lt;int&gt; | Art &lt;chr&gt; |\n",
       "|---|---|---|---|---|---|---|---|---|---|\n",
       "| 1 | 773233 | http://www.der-postillon.com/2018/01/grokoleaks.html | Exklusiv! Das geheime WhatsApp-Chat-Protokoll der GroKo-Sondierungsgespräche | Die Sondierungsgespräche zwischen Union und SPD endeten mit einem Kompromiss, der nun insbesondere bei den Sozialdemokraten heftig diskutiert wird. Wie schon bei den Jamaika-Sondierungen (wir berichteten) wurden dem Postillon von einer anonymen Quelle die geheimen Chat-Protokolle aus der GroKo-WhatsApp-Gruppe der Parteispitzen zugespielt. Wir dokumentieren und kommentieren im Folgenden Leaks (#GroKoLeaks) aus den Sondierungsgesprächen, die tief blicken lassen:\n",
       "\n",
       "\n",
       "Die Gruppenerstellung:\n",
       "\n",
       "Schnell beginnt das harte Ringen um politische Positionen:\n",
       "\n",
       "Nach der zwischenzeitlichen Entfernung von Andrea Nahles kommt es jedoch nur selten zu Verhandlungserfolgen für die SPD:\n",
       "\n",
       "Doch auch kleine technikbedingte Pannen bleiben nicht aus (Andrea Nahles wurde inzwischen wieder hinzugefügt, musste jedoch versprechen, dass sie Beleidigungen und Drohungen auf ein Minimum reduziert):\n",
       "\n",
       "Am vierten Tag der Sondierungen kam es zu diesem Überraschungsauftritt:\n",
       "\n",
       "Es folgen weitere harte  Diskussionen:\n",
       "\n",
       "Auch die WhatsApp-Leaks bei den Jamaika-Sondierungen werden angesprochen:\n",
       "\n",
       "Unser letzter Chat stammt aus der finalen Marathon-Verhandlungsrunde im Willy-Brandt-Haus, die angeblich 26 Stunden dauerte: \n",
       " Foto oben: dpa\n",
       "\n",
       "Lesen Sie auch: \n",
       "Exklusiv! Das geheime WhatsApp-Chat-Protokoll der Jamaika-Sondierungsgespräche | wirtschaft | 2018-01-18 00:00:00 | Postillion | 1 | <!----> |\n",
       "\n"
      ],
      "text/plain": [
       "  id     url                                                 \n",
       "1 773233 http://www.der-postillon.com/2018/01/grokoleaks.html\n",
       "  Titel                                                                       \n",
       "1 Exklusiv! Das geheime WhatsApp-Chat-Protokoll der GroKo-Sondierungsgespräche\n",
       "  Body                                                                                                                                                                                                                                                                                                                                                                                                                                                                                                                                                                                                                                                                                                                                                                                                                                                                                                                                                                                                                                                                                                                                                                                                                                                                                                                                                                       \n",
       "1 Die Sondierungsgespräche zwischen Union und SPD endeten mit einem Kompromiss, der nun insbesondere bei den Sozialdemokraten heftig diskutiert wird. Wie schon bei den Jamaika-Sondierungen (wir berichteten) wurden dem Postillon von einer anonymen Quelle die geheimen Chat-Protokolle aus der GroKo-WhatsApp-Gruppe der Parteispitzen zugespielt. Wir dokumentieren und kommentieren im Folgenden Leaks (#GroKoLeaks) aus den Sondierungsgesprächen, die tief blicken lassen:\\n\\n\\nDie Gruppenerstellung:\\n\\nSchnell beginnt das harte Ringen um politische Positionen:\\n\\nNach der zwischenzeitlichen Entfernung von Andrea Nahles kommt es jedoch nur selten zu Verhandlungserfolgen für die SPD:\\n\\nDoch auch kleine technikbedingte Pannen bleiben nicht aus (Andrea Nahles wurde inzwischen wieder hinzugefügt, musste jedoch versprechen, dass sie Beleidigungen und Drohungen auf ein Minimum reduziert):\\n\\nAm vierten Tag der Sondierungen kam es zu diesem Überraschungsauftritt:\\n\\nEs folgen weitere harte  Diskussionen:\\n\\nAuch die WhatsApp-Leaks bei den Jamaika-Sondierungen werden angesprochen:\\n\\nUnser letzter Chat stammt aus der finalen Marathon-Verhandlungsrunde im Willy-Brandt-Haus, die angeblich 26 Stunden dauerte: \\n Foto oben: dpa\\n\\nLesen Sie auch: \\nExklusiv! Das geheime WhatsApp-Chat-Protokoll der Jamaika-Sondierungsgespräche\n",
       "  Kategorie  Datum               Quelle     Fake Art\n",
       "1 wirtschaft 2018-01-18 00:00:00 Postillion 1       "
      ]
     },
     "metadata": {},
     "output_type": "display_data"
    }
   ],
   "source": [
    "dfNewsGer <- read.csv2(\"newsGer.csv\", sep = \",\")\n",
    "str(dfNewsGer)\n",
    "dfNewsGer[1, ]"
   ]
  },
  {
   "cell_type": "markdown",
   "id": "40810954-de35-459a-ade3-437ba7d3b77a",
   "metadata": {
    "tags": []
   },
   "source": [
    "#### Removing unwanted columns"
   ]
  },
  {
   "cell_type": "code",
   "execution_count": 2,
   "id": "ea9d7c84-02fc-4026-956f-bd86a06c6025",
   "metadata": {},
   "outputs": [
    {
     "data": {
      "text/html": [
       "<style>\n",
       ".list-inline {list-style: none; margin:0; padding: 0}\n",
       ".list-inline>li {display: inline-block}\n",
       ".list-inline>li:not(:last-child)::after {content: \"\\00b7\"; padding: 0 .5ex}\n",
       "</style>\n",
       "<ol class=list-inline><li>'id'</li><li>'url'</li><li>'Titel'</li><li>'Body'</li><li>'Kategorie'</li><li>'Datum'</li><li>'Quelle'</li><li>'Fake'</li><li>'Art'</li></ol>\n"
      ],
      "text/latex": [
       "\\begin{enumerate*}\n",
       "\\item 'id'\n",
       "\\item 'url'\n",
       "\\item 'Titel'\n",
       "\\item 'Body'\n",
       "\\item 'Kategorie'\n",
       "\\item 'Datum'\n",
       "\\item 'Quelle'\n",
       "\\item 'Fake'\n",
       "\\item 'Art'\n",
       "\\end{enumerate*}\n"
      ],
      "text/markdown": [
       "1. 'id'\n",
       "2. 'url'\n",
       "3. 'Titel'\n",
       "4. 'Body'\n",
       "5. 'Kategorie'\n",
       "6. 'Datum'\n",
       "7. 'Quelle'\n",
       "8. 'Fake'\n",
       "9. 'Art'\n",
       "\n",
       "\n"
      ],
      "text/plain": [
       "[1] \"id\"        \"url\"       \"Titel\"     \"Body\"      \"Kategorie\" \"Datum\"    \n",
       "[7] \"Quelle\"    \"Fake\"      \"Art\"      "
      ]
     },
     "metadata": {},
     "output_type": "display_data"
    },
    {
     "data": {
      "text/html": [
       "<style>\n",
       ".list-inline {list-style: none; margin:0; padding: 0}\n",
       ".list-inline>li {display: inline-block}\n",
       ".list-inline>li:not(:last-child)::after {content: \"\\00b7\"; padding: 0 .5ex}\n",
       "</style>\n",
       "<ol class=list-inline><li>'Titel'</li><li>'Body'</li><li>'Fake'</li></ol>\n"
      ],
      "text/latex": [
       "\\begin{enumerate*}\n",
       "\\item 'Titel'\n",
       "\\item 'Body'\n",
       "\\item 'Fake'\n",
       "\\end{enumerate*}\n"
      ],
      "text/markdown": [
       "1. 'Titel'\n",
       "2. 'Body'\n",
       "3. 'Fake'\n",
       "\n",
       "\n"
      ],
      "text/plain": [
       "[1] \"Titel\" \"Body\"  \"Fake\" "
      ]
     },
     "metadata": {},
     "output_type": "display_data"
    }
   ],
   "source": [
    "colnames(dfNewsGer)\n",
    "dfNewsGer <- dfNewsGer[, c(\"Titel\", \"Body\", \"Fake\")]\n",
    "colnames(dfNewsGer)"
   ]
  },
  {
   "cell_type": "markdown",
   "id": "513bf9a3-3c4a-46cd-9fb8-7d4553682118",
   "metadata": {
    "tags": []
   },
   "source": [
    "##### Any NAs?"
   ]
  },
  {
   "cell_type": "code",
   "execution_count": 3,
   "id": "428c9de1-fb65-46b6-9afc-873b1ccd22de",
   "metadata": {},
   "outputs": [
    {
     "data": {
      "text/html": [
       "FALSE"
      ],
      "text/latex": [
       "FALSE"
      ],
      "text/markdown": [
       "FALSE"
      ],
      "text/plain": [
       "[1] FALSE"
      ]
     },
     "metadata": {},
     "output_type": "display_data"
    }
   ],
   "source": [
    "any(is.na(dfNewsGer)) # No missing values"
   ]
  },
  {
   "cell_type": "markdown",
   "id": "de901038-2a75-4bbe-934f-26ca276bc242",
   "metadata": {},
   "source": [
    "#### Removing the news site's name from articles"
   ]
  },
  {
   "cell_type": "code",
   "execution_count": 4,
   "id": "8bd127a2-dfd8-4724-89d4-8690514c9e8e",
   "metadata": {},
   "outputs": [
    {
     "data": {
      "text/html": [
       "'Titel: 37'"
      ],
      "text/latex": [
       "'Titel: 37'"
      ],
      "text/markdown": [
       "'Titel: 37'"
      ],
      "text/plain": [
       "[1] \"Titel: 37\""
      ]
     },
     "metadata": {},
     "output_type": "display_data"
    },
    {
     "data": {
      "text/html": [
       "'Body: 485'"
      ],
      "text/latex": [
       "'Body: 485'"
      ],
      "text/markdown": [
       "'Body: 485'"
      ],
      "text/plain": [
       "[1] \"Body: 485\""
      ]
     },
     "metadata": {},
     "output_type": "display_data"
    }
   ],
   "source": [
    "# Getting indices of articles containing the news site's name\n",
    "cPattern <- \"postillon\"\n",
    "bPostillonIndTitel <- sapply(X = dfNewsGer$Titel, FUN = function(x){grepl(cPattern, tolower(x), fixed = TRUE)})\n",
    "bPostillonIndBody <- sapply(X = dfNewsGer$Body, FUN = function(x){grepl(cPattern, tolower(x), fixed = TRUE)})\n",
    "\n",
    "paste0(\"Titel: \", sum(bPostillonIndTitel == TRUE))\n",
    "paste0(\"Body: \", sum(bPostillonIndBody == TRUE))"
   ]
  },
  {
   "cell_type": "code",
   "execution_count": 5,
   "id": "2e3461d0-a512-46c2-8135-4b0a21d41741",
   "metadata": {},
   "outputs": [
    {
     "name": "stdout",
     "output_type": "stream",
     "text": [
      "'data.frame':\t63868 obs. of  3 variables:\n",
      " $ Titel: chr  \"Exklusiv! Das geheime WhatsApp-Chat-Protokoll der GroKo-Sondierungsgespräche\" \"Trump droht, jeden zu verspeisen, der an seiner geistigen Gesundheit zweifelt\" \"Soli runter, keine Steuererhöhungen, kein Klimaziel! FDP setzt sich in Sondierungen durch\" \"Hat sie eine Affäre? Joachim Sauer glaubt Angela Merkel alberne Sondierungs-Ausrede nicht mehr\" ...\n",
      " $ Body : chr  \"Die Sondierungsgespräche zwischen Union und SPD endeten mit einem Kompromiss, der nun insbesondere bei den Sozi\"| __truncated__ \"Nun ist es auch medizinisch offiziell bestätigt: Eine militärärztliche Untersuchung hat ergeben, dass Donald Tr\"| __truncated__ \"Es waren zähe Verhandlungen, doch die Freien Demokraten können zufrieden sein: In den Sondierungen zur Großen K\"| __truncated__ \"Wo treibt sie sich immer bis spät in die Nacht herum? Joachim Sauer aus Berlin hat seit einigen Wochen den Verd\"| __truncated__ ...\n",
      " $ Fake : int  1 1 1 1 1 1 1 1 1 1 ...\n"
     ]
    }
   ],
   "source": [
    "# Removing words\n",
    "fRemovePostillon <- function(x){\n",
    "    x <- gsub(\"https://www.der-postillon.com/\\\\S*\", \"\", x)\n",
    "    x <- gsub(\"www.der-postillon.com \", \"\", x)\n",
    "    x <- gsub(\"postillon\", \"\", x)\n",
    "    x <- gsub(\"Postillon\", \"\", x)\n",
    "    # In case of typos\n",
    "    x <- gsub(\"https://www.der-postillion.com/\\\\S*\", \"\", x)\n",
    "    x <- gsub(\"www.der-postillion.com \", \"\", x)\n",
    "    x <- gsub(\"postillion\", \"\", x)\n",
    "    x <- gsub(\"Postillion\", \"\", x)\n",
    "    return(x)\n",
    "}\n",
    "dfNewsGer$Titel <- sapply(X = dfNewsGer$Titel, FUN = fRemovePostillon)\n",
    "dfNewsGer$Body <- sapply(X = dfNewsGer$Body, FUN = fRemovePostillon)\n",
    "str(dfNewsGer)"
   ]
  },
  {
   "cell_type": "markdown",
   "id": "f1fbe6e4-3303-4299-8147-4ebdf2e3742e",
   "metadata": {},
   "source": [
    "#### Data export"
   ]
  },
  {
   "cell_type": "code",
   "execution_count": 6,
   "id": "88b53757-8111-4a7b-8059-42d74f7cf628",
   "metadata": {
    "tags": []
   },
   "outputs": [],
   "source": [
    "# write.csv(dfNewsGer, \"dfNewsGerPreProFull.csv\")"
   ]
  },
  {
   "cell_type": "markdown",
   "id": "0e65ccd2-0303-4ec6-aca9-3f77dfba81e3",
   "metadata": {},
   "source": [
    "#### Adjusting dataset size"
   ]
  },
  {
   "cell_type": "code",
   "execution_count": 7,
   "id": "4b41912b-c890-4307-a93e-e0fedba9fa09",
   "metadata": {},
   "outputs": [
    {
     "data": {
      "text/plain": [
       "     Real      Fake \n",
       "0.9275537 0.0724463 "
      ]
     },
     "metadata": {},
     "output_type": "display_data"
    }
   ],
   "source": [
    "# % of real and fake news in the dataset\n",
    "tNewsSplit <- table(dfNewsGer$Fake)\n",
    "tNewsSplit <- tNewsSplit/nrow(dfNewsGer)\n",
    "names(tNewsSplit) <- c(\"Real\", \"Fake\")\n",
    "tNewsSplit"
   ]
  },
  {
   "cell_type": "code",
   "execution_count": 8,
   "id": "8bcb9d02-c49f-4b43-a618-ee925b721015",
   "metadata": {},
   "outputs": [
    {
     "name": "stdout",
     "output_type": "stream",
     "text": [
      "'data.frame':\t9254 obs. of  3 variables:\n",
      " $ Titel: chr  \"Kindle Fire HD bald in 170 Ländern erhältlich\" \"HIV und Hepatitis: Wenn ein Virus chronisch wird\" \"Daimler macht Einstieg bei chinesischem Partner perfekt\" \"Hedge-Fonds: Profit schon unter 100 Mio. Dollar\" ...\n",
      " $ Body : chr  \"Amazon startet mit seinen Highend-Tablets international durch\\nAmazon startet mit den Highend-Versionen seiner \"| __truncated__ \"Forscher analysierer Struktur des Erregers, um ihn besser zu bekämpfen\\nForscher der Universität Duisburg-Essen\"| __truncated__ \"Der Autobauer Daimler will sein lahmendes China-Geschäft mit einer millionenschweren Beteiligung ankurbeln. Die\"| __truncated__ \"Kleine Vermögensverwalter laut neuer Studie durchaus erfolgreich\\nDie meisten Hedge-Fonds können auch mit deutl\"| __truncated__ ...\n",
      " $ Fake : int  0 0 0 0 0 0 0 0 0 0 ...\n"
     ]
    }
   ],
   "source": [
    "# Reducing number of real news\n",
    "dfNewsGer <- dfNewsGer[c(sample(which(dfNewsGer$Fake == 0), sum(dfNewsGer$Fake == 1)), which(dfNewsGer$Fake == 1)), ]\n",
    "str(dfNewsGer)"
   ]
  },
  {
   "cell_type": "code",
   "execution_count": 9,
   "id": "7b48ee56-1db2-4525-a43b-4b808b8e7bf2",
   "metadata": {},
   "outputs": [
    {
     "data": {
      "text/plain": [
       "Real Fake \n",
       " 0.5  0.5 "
      ]
     },
     "metadata": {},
     "output_type": "display_data"
    }
   ],
   "source": [
    "# % of real and fake news in the dataset\n",
    "tNewsSplit <- table(dfNewsGer$Fake)\n",
    "tNewsSplit <- tNewsSplit/nrow(dfNewsGer)\n",
    "names(tNewsSplit) <- c(\"Real\", \"Fake\")\n",
    "tNewsSplit"
   ]
  },
  {
   "cell_type": "markdown",
   "id": "ac7a99c9-98a1-4fff-9e63-74d023533f1d",
   "metadata": {},
   "source": [
    "#### Data export 50/50"
   ]
  },
  {
   "cell_type": "code",
   "execution_count": 10,
   "id": "bdaf72c8-073f-460b-82a9-639a0e4c2aa8",
   "metadata": {
    "tags": []
   },
   "outputs": [],
   "source": [
    "# write.csv(dfNewsGer, \"dfNewsGerPrePro5050.csv\")"
   ]
  },
  {
   "cell_type": "markdown",
   "id": "ef261787-ef4e-4b55-a050-6752ab08b405",
   "metadata": {},
   "source": [
    "## English Fake News Dataset"
   ]
  },
  {
   "cell_type": "markdown",
   "id": "d39120a5-3334-429d-9a71-704cc3d5aa10",
   "metadata": {},
   "source": [
    "#### Reference\n",
    "https://www.kaggle.com/datasets/clmentbisaillon/fake-and-real-news-dataset"
   ]
  },
  {
   "cell_type": "markdown",
   "id": "d5f0312f-3764-41da-ad26-73cf06934a60",
   "metadata": {},
   "source": [
    "#### Importing the .csv-files"
   ]
  },
  {
   "cell_type": "code",
   "execution_count": 11,
   "id": "67ea8231-25ca-4afe-a068-3198b209258a",
   "metadata": {},
   "outputs": [
    {
     "name": "stderr",
     "output_type": "stream",
     "text": [
      "Warning message in scan(file = file, what = what, sep = sep, quote = quote, dec = dec, :\n",
      "“EOF within quoted string”\n",
      "Warning message in scan(file = file, what = what, sep = sep, quote = quote, dec = dec, :\n",
      "“EOF within quoted string”\n"
     ]
    },
    {
     "name": "stdout",
     "output_type": "stream",
     "text": [
      "'data.frame':\t4115 obs. of  4 variables:\n",
      " $ title  : chr  \"As U.S. budget fight looms, Republicans flip their fiscal script\" \"U.S. military to accept transgender recruits on Monday: Pentagon\" \"Senior U.S. Republican senator: 'Let Mr. Mueller do his job'\" \"FBI Russia probe helped by Australian diplomat tip-off: NYT\" ...\n",
      " $ text   : chr  \"WASHINGTON (Reuters) - The head of a conservative Republican faction in the U.S. Congress, who voted this month\"| __truncated__ \"WASHINGTON (Reuters) - Transgender people will be allowed for the first time to enlist in the U.S. military sta\"| __truncated__ \"WASHINGTON (Reuters) - The special counsel investigation of links between Russia and President Trump’s 2016 ele\"| __truncated__ \"WASHINGTON (Reuters) - Trump campaign adviser George Papadopoulos told an Australian diplomat in May 2016 that \"| __truncated__ ...\n",
      " $ subject: chr  \"politicsNews\" \"politicsNews\" \"politicsNews\" \"politicsNews\" ...\n",
      " $ date   : chr  \"December 31, 2017 \" \"December 29, 2017 \" \"December 31, 2017 \" \"December 30, 2017 \" ...\n",
      "'data.frame':\t20561 obs. of  4 variables:\n",
      " $ title  : chr  \" Donald Trump Sends Out Embarrassing New Year’s Eve Message; This is Disturbing\" \" Drunk Bragging Trump Staffer Started Russian Collusion Investigation\" \" Sheriff David Clarke Becomes An Internet Joke For Threatening To Poke People ‘In The Eye’\" \" Trump Is So Obsessed He Even Has Obama’s Name Coded Into His Website (IMAGES)\" ...\n",
      " $ text   : chr  \"Donald Trump just couldn t wish all Americans a Happy New Year and leave it at that. Instead, he had to give a \"| __truncated__ \"House Intelligence Committee Chairman Devin Nunes is going to have a bad day. He s been under the assumption, l\"| __truncated__ \"On Friday, it was revealed that former Milwaukee Sheriff David Clarke, who was being considered for Homeland Se\"| __truncated__ \"On Christmas day, Donald Trump announced that he would  be back to work  the following day, but he is golfing f\"| __truncated__ ...\n",
      " $ subject: chr  \"News\" \"News\" \"News\" \"News\" ...\n",
      " $ date   : chr  \"December 31, 2017\" \"December 31, 2017\" \"December 30, 2017\" \"December 29, 2017\" ...\n"
     ]
    }
   ],
   "source": [
    "dfNewsEnTrue <- read.csv2(\"TrueEn.csv\", header = TRUE, sep = \",\", fill = TRUE)\n",
    "dfNewsEnFake <- read.csv2(\"FakeEn.csv\", header = TRUE, sep = \",\", fill = TRUE)\n",
    "str(dfNewsEnTrue)\n",
    "str(dfNewsEnFake)"
   ]
  },
  {
   "cell_type": "markdown",
   "id": "2a3ef0d5-09ce-413f-93be-7c9a30df1461",
   "metadata": {},
   "source": [
    "#### Removing source from text of real articles"
   ]
  },
  {
   "cell_type": "code",
   "execution_count": 12,
   "id": "e8e2fc18-fc8c-47b9-bfe9-63fbf84358b2",
   "metadata": {},
   "outputs": [
    {
     "data": {
      "text/html": [
       "'WASHINGTON (Reuters) - The head of a conservative Republican faction in the U.S. Congress, who voted this month for a huge expansion of the national debt to pay for tax cuts, called himself a “fiscal '"
      ],
      "text/latex": [
       "'WASHINGTON (Reuters) - The head of a conservative Republican faction in the U.S. Congress, who voted this month for a huge expansion of the national debt to pay for tax cuts, called himself a “fiscal '"
      ],
      "text/markdown": [
       "'WASHINGTON (Reuters) - The head of a conservative Republican faction in the U.S. Congress, who voted this month for a huge expansion of the national debt to pay for tax cuts, called himself a “fiscal '"
      ],
      "text/plain": [
       "[1] \"WASHINGTON (Reuters) - The head of a conservative Republican faction in the U.S. Congress, who voted this month for a huge expansion of the national debt to pay for tax cuts, called himself a “fiscal \""
      ]
     },
     "metadata": {},
     "output_type": "display_data"
    },
    {
     "data": {
      "text/html": [
       "'The head of a conservative Republican faction in the U.S. Congress, who voted this month for a huge expansion of the national debt to pay for tax cuts, called himself a “fiscal conservative” on Sunday'"
      ],
      "text/latex": [
       "'The head of a conservative Republican faction in the U.S. Congress, who voted this month for a huge expansion of the national debt to pay for tax cuts, called himself a “fiscal conservative” on Sunday'"
      ],
      "text/markdown": [
       "'The head of a conservative Republican faction in the U.S. Congress, who voted this month for a huge expansion of the national debt to pay for tax cuts, called himself a “fiscal conservative” on Sunday'"
      ],
      "text/plain": [
       "[1] \"The head of a conservative Republican faction in the U.S. Congress, who voted this month for a huge expansion of the national debt to pay for tax cuts, called himself a “fiscal conservative” on Sunday\""
      ]
     },
     "metadata": {},
     "output_type": "display_data"
    }
   ],
   "source": [
    "substr(dfNewsEnTrue$text[1], 1, 200)\n",
    "dfNewsEnTrue$text <- gsub(\"^[^-]*- \", \"\", dfNewsEnTrue$text)\n",
    "substr(dfNewsEnTrue$text[1], 1, 200)"
   ]
  },
  {
   "cell_type": "markdown",
   "id": "258b10f0-9f17-4ea5-a926-43e77db0530f",
   "metadata": {
    "tags": []
   },
   "source": [
    "#### Merging and removing unwanted columns"
   ]
  },
  {
   "cell_type": "code",
   "execution_count": 13,
   "id": "00cc3d4d-0efe-458b-bf20-657bbe5d3a9d",
   "metadata": {},
   "outputs": [
    {
     "data": {
      "text/html": [
       "<style>\n",
       ".list-inline {list-style: none; margin:0; padding: 0}\n",
       ".list-inline>li {display: inline-block}\n",
       ".list-inline>li:not(:last-child)::after {content: \"\\00b7\"; padding: 0 .5ex}\n",
       "</style>\n",
       "<ol class=list-inline><li>'title'</li><li>'text'</li><li>'subject'</li><li>'date'</li><li>'Fake'</li></ol>\n"
      ],
      "text/latex": [
       "\\begin{enumerate*}\n",
       "\\item 'title'\n",
       "\\item 'text'\n",
       "\\item 'subject'\n",
       "\\item 'date'\n",
       "\\item 'Fake'\n",
       "\\end{enumerate*}\n"
      ],
      "text/markdown": [
       "1. 'title'\n",
       "2. 'text'\n",
       "3. 'subject'\n",
       "4. 'date'\n",
       "5. 'Fake'\n",
       "\n",
       "\n"
      ],
      "text/plain": [
       "[1] \"title\"   \"text\"    \"subject\" \"date\"    \"Fake\"   "
      ]
     },
     "metadata": {},
     "output_type": "display_data"
    },
    {
     "name": "stdout",
     "output_type": "stream",
     "text": [
      "'data.frame':\t24676 obs. of  3 variables:\n",
      " $ Titel: chr  \"As U.S. budget fight looms, Republicans flip their fiscal script\" \"U.S. military to accept transgender recruits on Monday: Pentagon\" \"Senior U.S. Republican senator: 'Let Mr. Mueller do his job'\" \"FBI Russia probe helped by Australian diplomat tip-off: NYT\" ...\n",
      " $ Body : chr  \"The head of a conservative Republican faction in the U.S. Congress, who voted this month for a huge expansion o\"| __truncated__ \"Transgender people will be allowed for the first time to enlist in the U.S. military starting on Monday as orde\"| __truncated__ \"The special counsel investigation of links between Russia and President Trump’s 2016 election campaign should c\"| __truncated__ \"Trump campaign adviser George Papadopoulos told an Australian diplomat in May 2016 that Russia had political di\"| __truncated__ ...\n",
      " $ Fake : num  0 0 0 0 0 0 0 0 0 0 ...\n"
     ]
    }
   ],
   "source": [
    "dfNewsEnTrue$Fake <- 0\n",
    "dfNewsEnFake$Fake <- 1\n",
    "dfNewsEn <- rbind(dfNewsEnTrue, dfNewsEnFake)\n",
    "colnames(dfNewsEn)\n",
    "dfNewsEn <- dfNewsEn[, c(\"title\", \"text\", \"Fake\")]\n",
    "colnames(dfNewsEn) <- c(\"Titel\", \"Body\", \"Fake\")\n",
    "str(dfNewsEn)"
   ]
  },
  {
   "cell_type": "markdown",
   "id": "b7b6f182-5c96-4787-ba61-43e71b50d0df",
   "metadata": {
    "tags": []
   },
   "source": [
    "##### Any NAs?"
   ]
  },
  {
   "cell_type": "code",
   "execution_count": 14,
   "id": "a9b9d4f6-041f-4fb6-a1bc-1f0144dcc2af",
   "metadata": {},
   "outputs": [
    {
     "data": {
      "text/html": [
       "FALSE"
      ],
      "text/latex": [
       "FALSE"
      ],
      "text/markdown": [
       "FALSE"
      ],
      "text/plain": [
       "[1] FALSE"
      ]
     },
     "metadata": {},
     "output_type": "display_data"
    }
   ],
   "source": [
    "any(is.na(dfNewsEn)) # No missing values"
   ]
  },
  {
   "cell_type": "markdown",
   "id": "b1d9a23e-28ec-4798-b786-a18a87f68ec6",
   "metadata": {},
   "source": [
    "#### Data export"
   ]
  },
  {
   "cell_type": "code",
   "execution_count": 15,
   "id": "40120fec-f34f-4cf8-a4c4-53eeabd79a4f",
   "metadata": {
    "tags": []
   },
   "outputs": [],
   "source": [
    "# write.csv(dfNewsEn, \"dfNewsEnPreProFull.csv\")"
   ]
  },
  {
   "cell_type": "markdown",
   "id": "25613308-94f7-4915-b12c-8ac6b8cbb911",
   "metadata": {},
   "source": [
    "#### Adjusting dataset size"
   ]
  },
  {
   "cell_type": "code",
   "execution_count": 16,
   "id": "1e7897f9-ff18-4b8b-a27a-0519b5ec1b7a",
   "metadata": {},
   "outputs": [
    {
     "data": {
      "text/plain": [
       "     Real      Fake \n",
       "0.1667612 0.8332388 "
      ]
     },
     "metadata": {},
     "output_type": "display_data"
    }
   ],
   "source": [
    "# % of real and fake news in the dataset\n",
    "tNewsSplit <- table(dfNewsEn$Fake)\n",
    "tNewsSplit <- tNewsSplit/nrow(dfNewsEn)\n",
    "names(tNewsSplit) <- c(\"Real\", \"Fake\")\n",
    "tNewsSplit"
   ]
  },
  {
   "cell_type": "code",
   "execution_count": 17,
   "id": "48d44009-01f8-49f3-b17d-a95a521c0511",
   "metadata": {},
   "outputs": [
    {
     "name": "stdout",
     "output_type": "stream",
     "text": [
      "'data.frame':\t8230 obs. of  3 variables:\n",
      " $ Titel: chr  \"WOW! NEW Batch Of Emails Show Hillary’s State Department Was “CORRUPTION CENTRAL” For Obama Regime…Reveals Favo\"| __truncated__ \"[VIDEO] AMERICAN VET DIES FIGHTING ISIS: Couldn’t Sit Back And Watch Iraq Being Taken Over By ISIS After His “B\"| __truncated__ \"HILLARY SET TO DESTROY LIVES Of Proud, Hard-Working, Black Coal Miners To Satisfy Mostly White Environmental Activists [VIDEO]\" \"OBAMA LECTURES COPS On Bigotry, Slavery, Oppression At Memorial Service For Dallas Cops Murdered By Black Racist [VIDEO]\" ...\n",
      " $ Body : chr  \"A nonprofit legal watchdog claimed Thursday that newly unearthed documents show Hillary Clinton sent and receiv\"| __truncated__ \"Keith Broomfield won t likely receive any recognition from the White House for his brave and selfless decision \"| __truncated__ \"Stealing Jobs From Minorities To Satisfy White Environmentalists Is The Worst Kind Of Racism It s always about \"| __truncated__ \"Obama had the audacity to tell this crowd of mourners that he wonders  if the divides of race in America can ev\"| __truncated__ ...\n",
      " $ Fake : num  1 1 1 1 1 1 1 1 1 1 ...\n"
     ]
    }
   ],
   "source": [
    "# Reducing number of fake news\n",
    "dfNewsEn <- dfNewsEn[c(sample(which(dfNewsEn$Fake == 1), sum(dfNewsEn$Fake == 0)), which(dfNewsEn$Fake == 0)), ]\n",
    "str(dfNewsEn)"
   ]
  },
  {
   "cell_type": "code",
   "execution_count": 18,
   "id": "a5894db0-9373-471b-a511-b5c2984fb4bf",
   "metadata": {},
   "outputs": [
    {
     "data": {
      "text/plain": [
       "Real Fake \n",
       " 0.5  0.5 "
      ]
     },
     "metadata": {},
     "output_type": "display_data"
    }
   ],
   "source": [
    "# % of real and fake news in the dataset\n",
    "tNewsSplit <- table(dfNewsEn$Fake)\n",
    "tNewsSplit <- tNewsSplit/nrow(dfNewsEn)\n",
    "names(tNewsSplit) <- c(\"Real\", \"Fake\")\n",
    "tNewsSplit"
   ]
  },
  {
   "cell_type": "markdown",
   "id": "b418be04-ec9b-47f2-871e-5f002a7b49da",
   "metadata": {},
   "source": [
    "#### Data export 50/50"
   ]
  },
  {
   "cell_type": "code",
   "execution_count": 19,
   "id": "f3b6846c-709d-473f-ba37-3bb035eab6f9",
   "metadata": {},
   "outputs": [],
   "source": [
    "# write.csv(dfNewsEn, \"dfNewsEnPrePro5050.csv\")"
   ]
  }
 ],
 "metadata": {
  "kernelspec": {
   "display_name": "R",
   "language": "R",
   "name": "ir"
  },
  "language_info": {
   "codemirror_mode": "r",
   "file_extension": ".r",
   "mimetype": "text/x-r-source",
   "name": "R",
   "pygments_lexer": "r",
   "version": "4.1.3"
  }
 },
 "nbformat": 4,
 "nbformat_minor": 5
}
