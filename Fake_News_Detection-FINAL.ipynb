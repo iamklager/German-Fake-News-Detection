{
 "cells": [
  {
   "cell_type": "markdown",
   "id": "30bfce7d",
   "metadata": {},
   "source": [
    "## Fake News Detection - Explainable"
   ]
  },
  {
   "cell_type": "markdown",
   "id": "3bf0949f",
   "metadata": {},
   "source": [
    "Goal: Development of fake news detection algorithm for German language with high explainability and interpretability using sentiment analysis.\n",
    "\n",
    "Significance & Contribution: \n",
    "\n",
    "- Enhancement of user’s trust and understanding of the detection process\n",
    "\n",
    "- Tool to identify fake news in German language\n",
    "\n",
    "- Contribution to the field of explainable AI as well as providing insights into the effectiveness of sentiment analysis in German fake news detection\n",
    "\n",
    "Research Gap:Need for transparent German fake news detection algorithm providing interpretable explanations for its classifier decisions.\n",
    "\n",
    "Research Question: \"How can sentiment analysis be leveraged to develop a transparent and explainable algorithm for detecting fake news in German language, ensuring users have a clear understanding of the decision-making process?\"\n"
   ]
  },
  {
   "cell_type": "markdown",
   "id": "853e03d3",
   "metadata": {},
   "source": [
    "##### 1. Getting a Labelled German & English Dataset"
   ]
  },
  {
   "cell_type": "markdown",
   "id": "32220964",
   "metadata": {},
   "source": [
    "##### 2. Data Cleaning\n",
    "\n",
    "1. Getting rid of features denoting to the publisher, source, or category\n",
    "2. Removing stopwords\n",
    "3. Create an equal data set containing the same amount of thruthful and fake news\n",
    "4. Removing words which might bias/distort the results such as information on the source "
   ]
  },
  {
   "cell_type": "code",
   "execution_count": 1,
   "id": "105177b8",
   "metadata": {},
   "outputs": [],
   "source": [
    "import pandas as pd\n",
    "from sklearn.feature_extraction.text import TfidfVectorizer\n",
    "from sklearn.feature_selection import SelectKBest, chi2\n",
    "from sklearn.linear_model import LogisticRegression\n",
    "from sklearn.model_selection import train_test_split\n",
    "from sklearn.metrics import accuracy_score\n",
    "from sklearn.ensemble import RandomForestClassifier\n",
    "import matplotlib.pyplot as plt"
   ]
  },
  {
   "cell_type": "markdown",
   "id": "32845d07",
   "metadata": {},
   "source": [
    "### German data set"
   ]
  },
  {
   "cell_type": "code",
   "execution_count": 2,
   "id": "c038f590",
   "metadata": {},
   "outputs": [
    {
     "data": {
      "text/html": [
       "<div>\n",
       "<style scoped>\n",
       "    .dataframe tbody tr th:only-of-type {\n",
       "        vertical-align: middle;\n",
       "    }\n",
       "\n",
       "    .dataframe tbody tr th {\n",
       "        vertical-align: top;\n",
       "    }\n",
       "\n",
       "    .dataframe thead th {\n",
       "        text-align: right;\n",
       "    }\n",
       "</style>\n",
       "<table border=\"1\" class=\"dataframe\">\n",
       "  <thead>\n",
       "    <tr style=\"text-align: right;\">\n",
       "      <th></th>\n",
       "      <th>Titel</th>\n",
       "      <th>Body</th>\n",
       "      <th>Fake</th>\n",
       "    </tr>\n",
       "  </thead>\n",
       "  <tbody>\n",
       "    <tr>\n",
       "      <th>0</th>\n",
       "      <td>Gelesene Lerninhalte werden schnell vergessen</td>\n",
       "      <td>Umsetzung neuer Erkenntnisse im schulischen Al...</td>\n",
       "      <td>0</td>\n",
       "    </tr>\n",
       "    <tr>\n",
       "      <th>1</th>\n",
       "      <td>Letta: Italien muss Fokus auf Wachstum legen</td>\n",
       "      <td>Das hoch verschuldete Italien muss seine Wirts...</td>\n",
       "      <td>0</td>\n",
       "    </tr>\n",
       "    <tr>\n",
       "      <th>2</th>\n",
       "      <td>Nato-Partner kommen Trump bei Finanzforderunge...</td>\n",
       "      <td>Die Nato-Verbündeten wollen US-Präsident Donal...</td>\n",
       "      <td>0</td>\n",
       "    </tr>\n",
       "    <tr>\n",
       "      <th>3</th>\n",
       "      <td>Im Jemen schwere Kämpfe trotz Feuerpause</td>\n",
       "      <td>Im Jemen ist es trotz der Feuerpause zu schwer...</td>\n",
       "      <td>0</td>\n",
       "    </tr>\n",
       "    <tr>\n",
       "      <th>4</th>\n",
       "      <td>Zeitung: Mindestlohn soll frühestens 2016 kommen</td>\n",
       "      <td>Bei den Koalitionsverhandlungen über den Minde...</td>\n",
       "      <td>0</td>\n",
       "    </tr>\n",
       "    <tr>\n",
       "      <th>...</th>\n",
       "      <td>...</td>\n",
       "      <td>...</td>\n",
       "      <td>...</td>\n",
       "    </tr>\n",
       "    <tr>\n",
       "      <th>9249</th>\n",
       "      <td>Streit um Kostenbeteiligung eskaliert: Werder ...</td>\n",
       "      <td>teilen teilen twittern teilen teilen e-mail \\n...</td>\n",
       "      <td>1</td>\n",
       "    </tr>\n",
       "    <tr>\n",
       "      <th>9250</th>\n",
       "      <td>Internet erscheint erstmals als Buch</td>\n",
       "      <td>teilen teilen twittern teilen teilen e-mail \\n...</td>\n",
       "      <td>1</td>\n",
       "    </tr>\n",
       "    <tr>\n",
       "      <th>9251</th>\n",
       "      <td>Keine GroKo-Abstimmungsunterlagen erhalten: Af...</td>\n",
       "      <td>teilen teilen twittern teilen teilen e-mail \\n...</td>\n",
       "      <td>1</td>\n",
       "    </tr>\n",
       "    <tr>\n",
       "      <th>9252</th>\n",
       "      <td>Trauer in Deutschland: Karin Engelbart gestorben</td>\n",
       "      <td>teilen teilen twittern teilen teilen e-mail \\n...</td>\n",
       "      <td>1</td>\n",
       "    </tr>\n",
       "    <tr>\n",
       "      <th>9253</th>\n",
       "      <td>Versehentlich Gleise und Schienen eingebaut: B...</td>\n",
       "      <td>teilen teilen twittern teilen teilen e-mail \\n...</td>\n",
       "      <td>1</td>\n",
       "    </tr>\n",
       "  </tbody>\n",
       "</table>\n",
       "<p>9254 rows × 3 columns</p>\n",
       "</div>"
      ],
      "text/plain": [
       "                                                  Titel  \\\n",
       "0         Gelesene Lerninhalte werden schnell vergessen   \n",
       "1          Letta: Italien muss Fokus auf Wachstum legen   \n",
       "2     Nato-Partner kommen Trump bei Finanzforderunge...   \n",
       "3              Im Jemen schwere Kämpfe trotz Feuerpause   \n",
       "4      Zeitung: Mindestlohn soll frühestens 2016 kommen   \n",
       "...                                                 ...   \n",
       "9249  Streit um Kostenbeteiligung eskaliert: Werder ...   \n",
       "9250               Internet erscheint erstmals als Buch   \n",
       "9251  Keine GroKo-Abstimmungsunterlagen erhalten: Af...   \n",
       "9252   Trauer in Deutschland: Karin Engelbart gestorben   \n",
       "9253  Versehentlich Gleise und Schienen eingebaut: B...   \n",
       "\n",
       "                                                   Body  Fake  \n",
       "0     Umsetzung neuer Erkenntnisse im schulischen Al...     0  \n",
       "1     Das hoch verschuldete Italien muss seine Wirts...     0  \n",
       "2     Die Nato-Verbündeten wollen US-Präsident Donal...     0  \n",
       "3     Im Jemen ist es trotz der Feuerpause zu schwer...     0  \n",
       "4     Bei den Koalitionsverhandlungen über den Minde...     0  \n",
       "...                                                 ...   ...  \n",
       "9249  teilen teilen twittern teilen teilen e-mail \\n...     1  \n",
       "9250  teilen teilen twittern teilen teilen e-mail \\n...     1  \n",
       "9251  teilen teilen twittern teilen teilen e-mail \\n...     1  \n",
       "9252  teilen teilen twittern teilen teilen e-mail \\n...     1  \n",
       "9253  teilen teilen twittern teilen teilen e-mail \\n...     1  \n",
       "\n",
       "[9254 rows x 3 columns]"
      ]
     },
     "execution_count": 2,
     "metadata": {},
     "output_type": "execute_result"
    }
   ],
   "source": [
    "# import cleaned data set (see step 2)\n",
    "df_de = pd.read_csv('news_cleaned_de.csv')\n",
    "df_de.drop(df_de.columns[0],axis = 1, inplace=True)\n",
    "df_de"
   ]
  },
  {
   "cell_type": "markdown",
   "id": "656e08c2",
   "metadata": {},
   "source": [
    "##### 3. Apply Tf-IDf\n",
    "\n",
    "TF-IDF stands for Term Frequency-Inverse Document Frequency, and it is a commonly used technique in text mining and information retrieval to quantify the importance of words in a document or a collection of documents. In the context of fake news detection task, TF-IDF can help identify the most relevant words or features that contribute to distinguishing between fake and truthful news.\n",
    "\n",
    "Here's a short overview of what TF-IDF does:\n",
    "\n",
    "- Term Frequency (TF): It measures the frequency of a term (word) within a document. The idea is that words that appear more frequently within a document might be more important or representative of its content. TF is calculated by counting the occurrences of each word in a document and normalizing it by the total number of words in the document.\n",
    "\n",
    "- Inverse Document Frequency (IDF): It measures the rarity or uniqueness of a term across the entire document collection. The intuition is that words that appear in many documents are less informative than words that appear in only a few documents. IDF is calculated by dividing the total number of documents by the number of documents that contain a specific word, and then taking the logarithm of the result. This logarithmic scaling helps give more weight to rare words.\n",
    "\n",
    "- TF-IDF: It combines the TF and IDF measures to compute a weighted score for each word in a document. The TF-IDF score is calculated by multiplying the TF of a word by the IDF of the word. This score reflects the importance of a word in a specific document relative to its importance in the entire document collection.\n"
   ]
  },
  {
   "cell_type": "code",
   "execution_count": 3,
   "id": "aab37c8b",
   "metadata": {
    "scrolled": true
   },
   "outputs": [
    {
     "name": "stdout",
     "output_type": "stream",
     "text": [
      "                                                  Titel  \\\n",
      "0         Gelesene Lerninhalte werden schnell vergessen   \n",
      "1          Letta: Italien muss Fokus auf Wachstum legen   \n",
      "2     Nato-Partner kommen Trump bei Finanzforderunge...   \n",
      "3              Im Jemen schwere Kämpfe trotz Feuerpause   \n",
      "4      Zeitung: Mindestlohn soll frühestens 2016 kommen   \n",
      "...                                                 ...   \n",
      "9249  Streit um Kostenbeteiligung eskaliert: Werder ...   \n",
      "9250               Internet erscheint erstmals als Buch   \n",
      "9251  Keine GroKo-Abstimmungsunterlagen erhalten: Af...   \n",
      "9252   Trauer in Deutschland: Karin Engelbart gestorben   \n",
      "9253  Versehentlich Gleise und Schienen eingebaut: B...   \n",
      "\n",
      "                                                   Body  Fake   00       000  \\\n",
      "0     Umsetzung neuer Erkenntnisse im schulischen Al...     0  0.0  0.000000   \n",
      "1     Das hoch verschuldete Italien muss seine Wirts...     0  0.0  0.000000   \n",
      "2     Die Nato-Verbündeten wollen US-Präsident Donal...     0  0.0  0.000000   \n",
      "3     Im Jemen ist es trotz der Feuerpause zu schwer...     0  0.0  0.042019   \n",
      "4     Bei den Koalitionsverhandlungen über den Minde...     0  0.0  0.000000   \n",
      "...                                                 ...   ...  ...       ...   \n",
      "9249  teilen teilen twittern teilen teilen e-mail \\n...     1  0.0  0.000000   \n",
      "9250  teilen teilen twittern teilen teilen e-mail \\n...     1  0.0  0.125545   \n",
      "9251  teilen teilen twittern teilen teilen e-mail \\n...     1  0.0  0.000000   \n",
      "9252  teilen teilen twittern teilen teilen e-mail \\n...     1  0.0  0.000000   \n",
      "9253  teilen teilen twittern teilen teilen e-mail \\n...     1  0.0  0.000000   \n",
      "\n",
      "       02  2007  2008  2009      2010  ...  zähler  zählern   äh  ökonomen  \\\n",
      "0     0.0   0.0   0.0   0.0  0.000000  ...     0.0      0.0  0.0       0.0   \n",
      "1     0.0   0.0   0.0   0.0  0.029739  ...     0.0      0.0  0.0       0.0   \n",
      "2     0.0   0.0   0.0   0.0  0.000000  ...     0.0      0.0  0.0       0.0   \n",
      "3     0.0   0.0   0.0   0.0  0.000000  ...     0.0      0.0  0.0       0.0   \n",
      "4     0.0   0.0   0.0   0.0  0.000000  ...     0.0      0.0  0.0       0.0   \n",
      "...   ...   ...   ...   ...       ...  ...     ...      ...  ...       ...   \n",
      "9249  0.0   0.0   0.0   0.0  0.000000  ...     0.0      0.0  0.0       0.0   \n",
      "9250  0.0   0.0   0.0   0.0  0.000000  ...     0.0      0.0  0.0       0.0   \n",
      "9251  0.0   0.0   0.0   0.0  0.000000  ...     0.0      0.0  0.0       0.0   \n",
      "9252  0.0   0.0   0.0   0.0  0.000000  ...     0.0      0.0  0.0       0.0   \n",
      "9253  0.0   0.0   0.0   0.0  0.000000  ...     0.0      0.0  0.0       0.0   \n",
      "\n",
      "       öl  ölpreis  övp      über  überhaupt  übernahme  \n",
      "0     0.0      0.0  0.0  0.000000        0.0        0.0  \n",
      "1     0.0      0.0  0.0  0.011860        0.0        0.0  \n",
      "2     0.0      0.0  0.0  0.018107        0.0        0.0  \n",
      "3     0.0      0.0  0.0  0.000000        0.0        0.0  \n",
      "4     0.0      0.0  0.0  0.034825        0.0        0.0  \n",
      "...   ...      ...  ...       ...        ...        ...  \n",
      "9249  0.0      0.0  0.0  0.000000        0.0        0.0  \n",
      "9250  0.0      0.0  0.0  0.000000        0.0        0.0  \n",
      "9251  0.0      0.0  0.0  0.000000        0.0        0.0  \n",
      "9252  0.0      0.0  0.0  0.016197        0.0        0.0  \n",
      "9253  0.0      0.0  0.0  0.019707        0.0        0.0  \n",
      "\n",
      "[9254 rows x 1003 columns]\n"
     ]
    }
   ],
   "source": [
    "# Create a TfidfVectorizer object\n",
    "vectorizer = TfidfVectorizer()\n",
    "\n",
    "# Fit and transform the 'Titel' and 'Body' columns\n",
    "tfidf_matrix = vectorizer.fit_transform(df_de['Titel'] + ' ' + df_de['Body'])\n",
    "\n",
    "# Perform feature selection to reduce dimensionality\n",
    "k = 1000  # Number of top features to select ---> restrict to 1000 otherwise the matrix gets to large \n",
    "selector = SelectKBest(chi2, k=k)\n",
    "tfidf_matrix_selected = selector.fit_transform(tfidf_matrix, df_de['Fake'])\n",
    "\n",
    "# Get the selected feature names\n",
    "feature_names = [vectorizer.get_feature_names()[i] for i in selector.get_support(indices=True)]\n",
    "\n",
    "# Convert the tfidf_matrix_selected to a DataFrame and concatenate with the original one\n",
    "tfidf_df = pd.DataFrame(tfidf_matrix_selected.toarray(), columns=feature_names)\n",
    "df_de = pd.concat([df_de, tfidf_df], axis=1)\n",
    "\n",
    "print(df_de)\n"
   ]
  },
  {
   "cell_type": "markdown",
   "id": "864c1914",
   "metadata": {},
   "source": [
    "##### 4. Apply a logistric regression model\n",
    "\n",
    "It is a higly interpretable model investigating the relationshep between the input features and the probability of a particular outcome using the logistic function.The coefficients associated with each feature represent the direction and magnitude of their influence on the predicted outcome."
   ]
  },
  {
   "cell_type": "code",
   "execution_count": 4,
   "id": "57752cbf",
   "metadata": {},
   "outputs": [
    {
     "name": "stdout",
     "output_type": "stream",
     "text": [
      "Accuracy: 0.9713668287412209\n"
     ]
    }
   ],
   "source": [
    "# Create train test split with 80/20 split\n",
    "X_train, X_test, y_train, y_test = train_test_split(tfidf_matrix, df_de['Fake'], test_size=0.2, random_state=35)\n",
    "\n",
    "# Train logistic regression model\n",
    "model = LogisticRegression()\n",
    "model.fit(X_train, y_train)\n",
    "\n",
    "# Make predictions on the test set\n",
    "y_pred = model.predict(X_test)\n",
    "\n",
    "# Check accuracy of the model\n",
    "accuracy = accuracy_score(y_test, y_pred)\n",
    "print(\"Accuracy:\", accuracy)\n"
   ]
  },
  {
   "cell_type": "markdown",
   "id": "aa038cb8",
   "metadata": {},
   "source": [
    "##### 5. Check the features which are relevant for the decision with their importance score"
   ]
  },
  {
   "cell_type": "code",
   "execution_count": 5,
   "id": "f96a7451",
   "metadata": {},
   "outputs": [
    {
     "name": "stdout",
     "output_type": "stream",
     "text": [
      "            Feature  Coefficient  Absolute Coefficient\n",
      "66467          http    -7.807566              7.807566\n",
      "48687          foto     6.851753              6.851753\n",
      "115155        sagte    -6.402253              6.402253\n",
      "7453             am    -5.456298              5.456298\n",
      "123143           so     5.137136              5.137136\n",
      "64220         heute     4.990746              4.990746\n",
      "31955           die    -4.677929              4.677929\n",
      "153825          www    -4.521252              4.521252\n",
      "67528           ich     4.266538              4.266538\n",
      "107205      prozent    -4.129255              4.129255\n",
      "67896            im    -4.039715              4.039715\n",
      "98173           nun     3.875072              3.875072\n",
      "31268           der    -3.552918              3.552918\n",
      "152388          wir     3.411267              3.411267\n",
      "61886         hatte    -3.352475              3.352475\n",
      "139451  unternehmen    -3.295880              3.295880\n",
      "68310            in    -3.272304              3.272304\n",
      "105715   pressetext    -3.246756              3.246756\n",
      "32911          doch     3.173650              3.173650\n",
      "51108           für    -3.094229              3.094229\n"
     ]
    }
   ],
   "source": [
    "# Get the feature names from the TfidfVectorizer\n",
    "feature_names = vectorizer.get_feature_names()\n",
    "\n",
    "# Get the coefficients from the logistic regression model\n",
    "coefficients = model.coef_[0]\n",
    "\n",
    "# Create a DataFrame to store the feature names and their corresponding coefficients\n",
    "coefficients_df = pd.DataFrame({'Feature': feature_names, 'Coefficient': coefficients})\n",
    "\n",
    "# Sort the coefficients in descending order based on their absolute values\n",
    "coefficients_df['Absolute Coefficient'] = coefficients_df['Coefficient'].abs()\n",
    "coefficients_df = coefficients_df.sort_values('Absolute Coefficient', ascending=False)\n",
    "\n",
    "print(coefficients_df.head(20))\n"
   ]
  },
  {
   "cell_type": "markdown",
   "id": "25d594e2",
   "metadata": {},
   "source": [
    "##### 6. Try different model - Decision trees\n",
    "\n",
    "Decision trees are hierarchical models that make decisions by recursively splitting the data based on feature values.\n",
    "Decision trees provide a transparent decision-making process since one can trace the tree's path from the root node to a leaf node to understand how decisions are made based on the feature values."
   ]
  },
  {
   "cell_type": "code",
   "execution_count": 6,
   "id": "4d60203c",
   "metadata": {},
   "outputs": [
    {
     "name": "stdout",
     "output_type": "stream",
     "text": [
      "Accuracy: 0.9292274446245273\n"
     ]
    }
   ],
   "source": [
    "from sklearn.tree import DecisionTreeClassifier\n",
    "\n",
    "# Train a Decision Tree classifier\n",
    "model = DecisionTreeClassifier()\n",
    "model.fit(X_train, y_train)\n",
    "\n",
    "# Make predictions on the test set\n",
    "y_pred = model.predict(X_test)\n",
    "\n",
    "# Check accuracy of the model\n",
    "accuracy = accuracy_score(y_test, y_pred)\n",
    "print(\"Accuracy:\", accuracy)"
   ]
  },
  {
   "cell_type": "markdown",
   "id": "cb3ac721",
   "metadata": {},
   "source": [
    "##### 7. Try different model - Random forest\n",
    "\n",
    "Random forest models provide feature importances, which indicate the relative importance of each feature for making predictions. It creates a collection of decision trees, where each tree is trained on a different subset of the data and a random subset of features."
   ]
  },
  {
   "cell_type": "code",
   "execution_count": 7,
   "id": "b4b640f1",
   "metadata": {},
   "outputs": [
    {
     "name": "stdout",
     "output_type": "stream",
     "text": [
      "Accuracy: 0.9773095623987034\n"
     ]
    }
   ],
   "source": [
    "# Create a Random Forest classifier\n",
    "model = RandomForestClassifier(n_estimators=100, random_state=35)\n",
    "\n",
    "# Train the model\n",
    "model.fit(X_train, y_train)\n",
    "\n",
    "# Make predictions on the test set\n",
    "y_pred = model.predict(X_test)\n",
    "\n",
    "# Check accuracy of the model\n",
    "accuracy = accuracy_score(y_test, y_pred)\n",
    "print(\"Accuracy:\", accuracy)\n"
   ]
  },
  {
   "cell_type": "markdown",
   "id": "44c97073",
   "metadata": {},
   "source": [
    "#### 8.Show important features for the Random Forest model\n"
   ]
  },
  {
   "cell_type": "code",
   "execution_count": 8,
   "id": "4baf10cf",
   "metadata": {},
   "outputs": [
    {
     "data": {
      "image/png": "[encoded data removed]",
      "text/plain": [
       "<Figure size 720x432 with 1 Axes>"
      ]
     },
     "metadata": {
      "needs_background": "light"
     },
     "output_type": "display_data"
    }
   ],
   "source": [
    "# Get feature importances from the Random Forest model\n",
    "importances = model.feature_importances_\n",
    "\n",
    "# Get the feature names from the TfidfVectorizer\n",
    "feature_names = vectorizer.get_feature_names()\n",
    "\n",
    "# Create dataframe to store variables \n",
    "feature_importances_df = pd.DataFrame({'Feature': feature_names, 'Importance': importances})\n",
    "feature_importances_df = feature_importances_df.sort_values('Importance', ascending=False)\n",
    "\n",
    "# Plot the feature importances\n",
    "plt.figure(figsize=(10, 6))\n",
    "plt.barh(feature_importances_df['Feature'][:10], feature_importances_df['Importance'][:10])\n",
    "plt.xlabel('Importance')\n",
    "plt.ylabel('Feature')\n",
    "plt.title('Top 10 Feature Importances')\n",
    "plt.show()\n"
   ]
  },
  {
   "cell_type": "markdown",
   "id": "3eda789a",
   "metadata": {},
   "source": [
    "### English data set (balanced)"
   ]
  },
  {
   "cell_type": "code",
   "execution_count": 9,
   "id": "a09271ca",
   "metadata": {},
   "outputs": [
    {
     "data": {
      "text/html": [
       "<div>\n",
       "<style scoped>\n",
       "    .dataframe tbody tr th:only-of-type {\n",
       "        vertical-align: middle;\n",
       "    }\n",
       "\n",
       "    .dataframe tbody tr th {\n",
       "        vertical-align: top;\n",
       "    }\n",
       "\n",
       "    .dataframe thead th {\n",
       "        text-align: right;\n",
       "    }\n",
       "</style>\n",
       "<table border=\"1\" class=\"dataframe\">\n",
       "  <thead>\n",
       "    <tr style=\"text-align: right;\">\n",
       "      <th></th>\n",
       "      <th>Titel</th>\n",
       "      <th>Body</th>\n",
       "      <th>Fake</th>\n",
       "    </tr>\n",
       "  </thead>\n",
       "  <tbody>\n",
       "    <tr>\n",
       "      <th>0</th>\n",
       "      <td>Watch Darrel Issa Get Booed After Being A Tot...</td>\n",
       "      <td>There may have been a time, many years ago, wh...</td>\n",
       "      <td>1</td>\n",
       "    </tr>\n",
       "    <tr>\n",
       "      <th>1</th>\n",
       "      <td>OBAMA’S GUN-RUNNING, Lying, Race-Baiting AG Is...</td>\n",
       "      <td>Please please please let it be a 3-way race be...</td>\n",
       "      <td>1</td>\n",
       "    </tr>\n",
       "    <tr>\n",
       "      <th>2</th>\n",
       "      <td>Trump Makes Startling Admission About His Wif...</td>\n",
       "      <td>With Donald Trump taking the Republican Party ...</td>\n",
       "      <td>1</td>\n",
       "    </tr>\n",
       "    <tr>\n",
       "      <th>3</th>\n",
       "      <td>Meet The INCREDIBLY Racist GOP Senator That J...</td>\n",
       "      <td>After failing to denounce or renounce an endor...</td>\n",
       "      <td>1</td>\n",
       "    </tr>\n",
       "    <tr>\n",
       "      <th>4</th>\n",
       "      <td>BREAKING: MITT ROMNEY Speaks To Reporters Foll...</td>\n",
       "      <td>https://youtu.be/Ai5ayloRa-0</td>\n",
       "      <td>1</td>\n",
       "    </tr>\n",
       "    <tr>\n",
       "      <th>...</th>\n",
       "      <td>...</td>\n",
       "      <td>...</td>\n",
       "      <td>...</td>\n",
       "    </tr>\n",
       "    <tr>\n",
       "      <th>8225</th>\n",
       "      <td>Trump to set new executive orders on environme...</td>\n",
       "      <td>U.S. President Donald Trump this week will sig...</td>\n",
       "      <td>0</td>\n",
       "    </tr>\n",
       "    <tr>\n",
       "      <th>8226</th>\n",
       "      <td>Trump condemns anti-Semitism on Israel's Holoc...</td>\n",
       "      <td>U.S. President Donald Trump said anti-Semitism...</td>\n",
       "      <td>0</td>\n",
       "    </tr>\n",
       "    <tr>\n",
       "      <th>8227</th>\n",
       "      <td>Trump pressures Democrats on Obamacare to get ...</td>\n",
       "      <td>President Donald Trump put pressure on Democra...</td>\n",
       "      <td>0</td>\n",
       "    </tr>\n",
       "    <tr>\n",
       "      <th>8228</th>\n",
       "      <td>Homeland Security not targeting Dreamers: Kelly</td>\n",
       "      <td>The Department of Homeland Security will not t...</td>\n",
       "      <td>0</td>\n",
       "    </tr>\n",
       "    <tr>\n",
       "      <th>8229</th>\n",
       "      <td>Trump says Mexico 'eventually' will pay for bo...</td>\n",
       "      <td>President Donald Trump said on Sunday he expec...</td>\n",
       "      <td>0</td>\n",
       "    </tr>\n",
       "  </tbody>\n",
       "</table>\n",
       "<p>8230 rows × 3 columns</p>\n",
       "</div>"
      ],
      "text/plain": [
       "                                                  Titel  \\\n",
       "0      Watch Darrel Issa Get Booed After Being A Tot...   \n",
       "1     OBAMA’S GUN-RUNNING, Lying, Race-Baiting AG Is...   \n",
       "2      Trump Makes Startling Admission About His Wif...   \n",
       "3      Meet The INCREDIBLY Racist GOP Senator That J...   \n",
       "4     BREAKING: MITT ROMNEY Speaks To Reporters Foll...   \n",
       "...                                                 ...   \n",
       "8225  Trump to set new executive orders on environme...   \n",
       "8226  Trump condemns anti-Semitism on Israel's Holoc...   \n",
       "8227  Trump pressures Democrats on Obamacare to get ...   \n",
       "8228    Homeland Security not targeting Dreamers: Kelly   \n",
       "8229  Trump says Mexico 'eventually' will pay for bo...   \n",
       "\n",
       "                                                   Body  Fake  \n",
       "0     There may have been a time, many years ago, wh...     1  \n",
       "1     Please please please let it be a 3-way race be...     1  \n",
       "2     With Donald Trump taking the Republican Party ...     1  \n",
       "3     After failing to denounce or renounce an endor...     1  \n",
       "4                          https://youtu.be/Ai5ayloRa-0     1  \n",
       "...                                                 ...   ...  \n",
       "8225  U.S. President Donald Trump this week will sig...     0  \n",
       "8226  U.S. President Donald Trump said anti-Semitism...     0  \n",
       "8227  President Donald Trump put pressure on Democra...     0  \n",
       "8228  The Department of Homeland Security will not t...     0  \n",
       "8229  President Donald Trump said on Sunday he expec...     0  \n",
       "\n",
       "[8230 rows x 3 columns]"
      ]
     },
     "execution_count": 9,
     "metadata": {},
     "output_type": "execute_result"
    }
   ],
   "source": [
    "# import english cleaned data set (see Step 2 - initial section)\n",
    "df_en = pd.read_csv('news_cleaned_en.csv')\n",
    "df_en.drop(df_en.columns[0],axis = 1, inplace=True)\n",
    "df_en"
   ]
  },
  {
   "cell_type": "code",
   "execution_count": 10,
   "id": "7019e812",
   "metadata": {},
   "outputs": [
    {
     "name": "stdout",
     "output_type": "stream",
     "text": [
      "                                                  Titel  \\\n",
      "0      Watch Darrel Issa Get Booed After Being A Tot...   \n",
      "1     OBAMA’S GUN-RUNNING, Lying, Race-Baiting AG Is...   \n",
      "2      Trump Makes Startling Admission About His Wif...   \n",
      "3      Meet The INCREDIBLY Racist GOP Senator That J...   \n",
      "4     BREAKING: MITT ROMNEY Speaks To Reporters Foll...   \n",
      "...                                                 ...   \n",
      "8225  Trump to set new executive orders on environme...   \n",
      "8226  Trump condemns anti-Semitism on Israel's Holoc...   \n",
      "8227  Trump pressures Democrats on Obamacare to get ...   \n",
      "8228    Homeland Security not targeting Dreamers: Kelly   \n",
      "8229  Trump says Mexico 'eventually' will pay for bo...   \n",
      "\n",
      "                                                   Body  Fake  2016      2017  \\\n",
      "0     There may have been a time, many years ago, wh...     1   0.0  0.000000   \n",
      "1     Please please please let it be a 3-way race be...     1   0.0  0.000000   \n",
      "2     With Donald Trump taking the Republican Party ...     1   0.0  0.000000   \n",
      "3     After failing to denounce or renounce an endor...     1   0.0  0.000000   \n",
      "4                          https://youtu.be/Ai5ayloRa-0     1   0.0  0.000000   \n",
      "...                                                 ...   ...   ...       ...   \n",
      "8225  U.S. President Donald Trump this week will sig...     0   0.0  0.000000   \n",
      "8226  U.S. President Donald Trump said anti-Semitism...     0   0.0  0.000000   \n",
      "8227  President Donald Trump put pressure on Democra...     0   0.0  0.025112   \n",
      "8228  The Department of Homeland Security will not t...     0   0.0  0.000000   \n",
      "8229  President Donald Trump said on Sunday he expec...     0   0.0  0.000000   \n",
      "\n",
      "      2017the  2018  2019  2jbh4lu  2jpexyr  ...  www   xi  xinhua      year  \\\n",
      "0         0.0   0.0   0.0      0.0      0.0  ...  0.0  0.0     0.0  0.000000   \n",
      "1         0.0   0.0   0.0      0.0      0.0  ...  0.0  0.0     0.0  0.000000   \n",
      "2         0.0   0.0   0.0      0.0      0.0  ...  0.0  0.0     0.0  0.000000   \n",
      "3         0.0   0.0   0.0      0.0      0.0  ...  0.0  0.0     0.0  0.000000   \n",
      "4         0.0   0.0   0.0      0.0      0.0  ...  0.0  0.0     0.0  0.000000   \n",
      "...       ...   ...   ...      ...      ...  ...  ...  ...     ...       ...   \n",
      "8225      0.0   0.0   0.0      0.0      0.0  ...  0.0  0.0     0.0  0.000000   \n",
      "8226      0.0   0.0   0.0      0.0      0.0  ...  0.0  0.0     0.0  0.000000   \n",
      "8227      0.0   0.0   0.0      0.0      0.0  ...  0.0  0.0     0.0  0.015143   \n",
      "8228      0.0   0.0   0.0      0.0      0.0  ...  0.0  0.0     0.0  0.000000   \n",
      "8229      0.0   0.0   0.0      0.0      0.0  ...  0.0  0.0     0.0  0.000000   \n",
      "\n",
      "      yellen       you      your     youtu   youtube     zinke  \n",
      "0        0.0  0.062507  0.031512  0.000000  0.000000  0.000000  \n",
      "1        0.0  0.014961  0.000000  0.000000  0.000000  0.000000  \n",
      "2        0.0  0.100244  0.000000  0.000000  0.000000  0.000000  \n",
      "3        0.0  0.040960  0.000000  0.000000  0.044217  0.000000  \n",
      "4        0.0  0.000000  0.000000  0.333442  0.000000  0.000000  \n",
      "...      ...       ...       ...       ...       ...       ...  \n",
      "8225     0.0  0.000000  0.000000  0.000000  0.000000  0.058107  \n",
      "8226     0.0  0.000000  0.000000  0.000000  0.000000  0.000000  \n",
      "8227     0.0  0.014116  0.000000  0.000000  0.000000  0.000000  \n",
      "8228     0.0  0.000000  0.000000  0.000000  0.000000  0.000000  \n",
      "8229     0.0  0.000000  0.000000  0.000000  0.000000  0.000000  \n",
      "\n",
      "[8230 rows x 1003 columns]\n"
     ]
    }
   ],
   "source": [
    "# Apply Tfidf\n",
    "\n",
    "# Create a TfidfVectorizer object\n",
    "vectorizer = TfidfVectorizer()\n",
    "\n",
    "# Fit and transform the 'Titel' and 'Body' columns\n",
    "tfidf_matrix = vectorizer.fit_transform(df_en['Titel'] + ' ' + df_en['Body'])\n",
    "\n",
    "# Perform feature selection to reduce dimensionality\n",
    "k = 1000  # Number of top features to select ---> restrict to 1000 otherwise it gets to large\n",
    "selector = SelectKBest(chi2, k=k)\n",
    "tfidf_matrix_selected = selector.fit_transform(tfidf_matrix, df_en['Fake'])\n",
    "\n",
    "# Get the selected feature names\n",
    "feature_names = [vectorizer.get_feature_names()[i] for i in selector.get_support(indices=True)]\n",
    "\n",
    "# Convert the tfidf_matrix_selected to dataframe and concatenate with the original one\n",
    "tfidf_df = pd.DataFrame(tfidf_matrix_selected.toarray(), columns=feature_names)\n",
    "df_en = pd.concat([df_en, tfidf_df], axis=1)\n",
    "\n",
    "print(df_en)"
   ]
  },
  {
   "cell_type": "code",
   "execution_count": 11,
   "id": "974a33ee",
   "metadata": {},
   "outputs": [
    {
     "name": "stdout",
     "output_type": "stream",
     "text": [
      "Accuracy: 0.968408262454435\n"
     ]
    }
   ],
   "source": [
    "# Apply random forest since it had the best accuracy with the german dataset \n",
    "\n",
    "# Split the data into training and testing sets\n",
    "X_train, X_test, y_train, y_test = train_test_split(tfidf_matrix, df_en['Fake'], test_size=0.2, random_state=35)\n",
    "\n",
    "# Create a Random Forest classifier\n",
    "model = RandomForestClassifier(n_estimators=100, random_state=35)\n",
    "\n",
    "# Train the model\n",
    "model.fit(X_train, y_train)\n",
    "\n",
    "# Make predictions on the test set\n",
    "y_pred = model.predict(X_test)\n",
    "\n",
    "# Evaluate the model\n",
    "accuracy = accuracy_score(y_test, y_pred)\n",
    "print(\"Accuracy:\", accuracy)"
   ]
  },
  {
   "cell_type": "code",
   "execution_count": 12,
   "id": "01f66bbc",
   "metadata": {},
   "outputs": [
    {
     "data": {
      "image/png": "[encoded data removed]",
      "text/plain": [
       "<Figure size 720x432 with 1 Axes>"
      ]
     },
     "metadata": {
      "needs_background": "light"
     },
     "output_type": "display_data"
    }
   ],
   "source": [
    "# Show important features for decision making\n",
    "\n",
    "# Get feature importances from the Random Forest model\n",
    "importances = model.feature_importances_\n",
    "\n",
    "# Get the feature names from the TfidfVectorizer\n",
    "feature_names = vectorizer.get_feature_names()\n",
    "\n",
    "# Create dataframe to store variables \n",
    "feature_importances_df = pd.DataFrame({'Feature': feature_names, 'Importance': importances})\n",
    "feature_importances_df = feature_importances_df.sort_values('Importance', ascending=False)\n",
    "\n",
    "# Plot the feature importances\n",
    "plt.figure(figsize=(10, 6))\n",
    "plt.barh(feature_importances_df['Feature'][:10], feature_importances_df['Importance'][:10])\n",
    "plt.xlabel('Importance')\n",
    "plt.ylabel('Feature')\n",
    "plt.title('Top 10 Feature Importances')\n",
    "plt.show()\n"
   ]
  },
  {
   "cell_type": "markdown",
   "id": "68ca88b8",
   "metadata": {},
   "source": [
    "### English data set (unbalanced)"
   ]
  },
  {
   "cell_type": "code",
   "execution_count": 13,
   "id": "545f976c",
   "metadata": {},
   "outputs": [
    {
     "data": {
      "text/html": [
       "<div>\n",
       "<style scoped>\n",
       "    .dataframe tbody tr th:only-of-type {\n",
       "        vertical-align: middle;\n",
       "    }\n",
       "\n",
       "    .dataframe tbody tr th {\n",
       "        vertical-align: top;\n",
       "    }\n",
       "\n",
       "    .dataframe thead th {\n",
       "        text-align: right;\n",
       "    }\n",
       "</style>\n",
       "<table border=\"1\" class=\"dataframe\">\n",
       "  <thead>\n",
       "    <tr style=\"text-align: right;\">\n",
       "      <th></th>\n",
       "      <th>Titel</th>\n",
       "      <th>Body</th>\n",
       "      <th>Fake</th>\n",
       "    </tr>\n",
       "  </thead>\n",
       "  <tbody>\n",
       "    <tr>\n",
       "      <th>0</th>\n",
       "      <td>As U.S. budget fight looms, Republicans flip t...</td>\n",
       "      <td>The head of a conservative Republican faction ...</td>\n",
       "      <td>0</td>\n",
       "    </tr>\n",
       "    <tr>\n",
       "      <th>1</th>\n",
       "      <td>U.S. military to accept transgender recruits o...</td>\n",
       "      <td>Transgender people will be allowed for the fir...</td>\n",
       "      <td>0</td>\n",
       "    </tr>\n",
       "    <tr>\n",
       "      <th>2</th>\n",
       "      <td>Senior U.S. Republican senator: 'Let Mr. Muell...</td>\n",
       "      <td>The special counsel investigation of links bet...</td>\n",
       "      <td>0</td>\n",
       "    </tr>\n",
       "    <tr>\n",
       "      <th>3</th>\n",
       "      <td>FBI Russia probe helped by Australian diplomat...</td>\n",
       "      <td>Trump campaign adviser George Papadopoulos tol...</td>\n",
       "      <td>0</td>\n",
       "    </tr>\n",
       "    <tr>\n",
       "      <th>4</th>\n",
       "      <td>Trump wants Postal Service to charge 'much mor...</td>\n",
       "      <td>President Donald Trump called on the U.S. Post...</td>\n",
       "      <td>0</td>\n",
       "    </tr>\n",
       "    <tr>\n",
       "      <th>...</th>\n",
       "      <td>...</td>\n",
       "      <td>...</td>\n",
       "      <td>...</td>\n",
       "    </tr>\n",
       "    <tr>\n",
       "      <th>24671</th>\n",
       "      <td>CLINTON PAL AND FORMER GOVERNOR: Ugly Women Wo...</td>\n",
       "      <td>The Democrat s war on mostly  ugly women Forme...</td>\n",
       "      <td>1</td>\n",
       "    </tr>\n",
       "    <tr>\n",
       "      <th>24672</th>\n",
       "      <td>TWO RICH WHITE GUYS Who Made A Fortune Selling...</td>\n",
       "      <td>Two white guys living in a state where 96% of ...</td>\n",
       "      <td>1</td>\n",
       "    </tr>\n",
       "    <tr>\n",
       "      <th>24673</th>\n",
       "      <td>“FLUSH TARGET” Truck Will Travel To Every Stor...</td>\n",
       "      <td>This highly visible campaign has nothing to do...</td>\n",
       "      <td>1</td>\n",
       "    </tr>\n",
       "    <tr>\n",
       "      <th>24674</th>\n",
       "      <td>SEX ROULETTE PARTIES On The Rise…One Person Is...</td>\n",
       "      <td>Culture rot The health professionals who will ...</td>\n",
       "      <td>1</td>\n",
       "    </tr>\n",
       "    <tr>\n",
       "      <th>24675</th>\n",
       "      <td>How TYSON FOODS Is DESTROYING Small Towns…Forc...</td>\n",
       "      <td>This is a story you won t likely find anywhere...</td>\n",
       "      <td>1</td>\n",
       "    </tr>\n",
       "  </tbody>\n",
       "</table>\n",
       "<p>24676 rows × 3 columns</p>\n",
       "</div>"
      ],
      "text/plain": [
       "                                                   Titel  \\\n",
       "0      As U.S. budget fight looms, Republicans flip t...   \n",
       "1      U.S. military to accept transgender recruits o...   \n",
       "2      Senior U.S. Republican senator: 'Let Mr. Muell...   \n",
       "3      FBI Russia probe helped by Australian diplomat...   \n",
       "4      Trump wants Postal Service to charge 'much mor...   \n",
       "...                                                  ...   \n",
       "24671  CLINTON PAL AND FORMER GOVERNOR: Ugly Women Wo...   \n",
       "24672  TWO RICH WHITE GUYS Who Made A Fortune Selling...   \n",
       "24673  “FLUSH TARGET” Truck Will Travel To Every Stor...   \n",
       "24674  SEX ROULETTE PARTIES On The Rise…One Person Is...   \n",
       "24675  How TYSON FOODS Is DESTROYING Small Towns…Forc...   \n",
       "\n",
       "                                                    Body  Fake  \n",
       "0      The head of a conservative Republican faction ...     0  \n",
       "1      Transgender people will be allowed for the fir...     0  \n",
       "2      The special counsel investigation of links bet...     0  \n",
       "3      Trump campaign adviser George Papadopoulos tol...     0  \n",
       "4      President Donald Trump called on the U.S. Post...     0  \n",
       "...                                                  ...   ...  \n",
       "24671  The Democrat s war on mostly  ugly women Forme...     1  \n",
       "24672  Two white guys living in a state where 96% of ...     1  \n",
       "24673  This highly visible campaign has nothing to do...     1  \n",
       "24674  Culture rot The health professionals who will ...     1  \n",
       "24675  This is a story you won t likely find anywhere...     1  \n",
       "\n",
       "[24676 rows x 3 columns]"
      ]
     },
     "execution_count": 13,
     "metadata": {},
     "output_type": "execute_result"
    }
   ],
   "source": [
    "# import english cleaned data set (see Step 2 - initial section)\n",
    "df_en_unbalanced = pd.read_csv('news_unbalanced_en.csv')\n",
    "df_en_unbalanced.drop(df_en_unbalanced.columns[0],axis = 1, inplace=True)\n",
    "df_en_unbalanced"
   ]
  },
  {
   "cell_type": "code",
   "execution_count": 14,
   "id": "c6492559",
   "metadata": {},
   "outputs": [
    {
     "name": "stdout",
     "output_type": "stream",
     "text": [
      "                                                   Titel  \\\n",
      "0      As U.S. budget fight looms, Republicans flip t...   \n",
      "1      U.S. military to accept transgender recruits o...   \n",
      "2      Senior U.S. Republican senator: 'Let Mr. Muell...   \n",
      "3      FBI Russia probe helped by Australian diplomat...   \n",
      "4      Trump wants Postal Service to charge 'much mor...   \n",
      "...                                                  ...   \n",
      "24671  CLINTON PAL AND FORMER GOVERNOR: Ugly Women Wo...   \n",
      "24672  TWO RICH WHITE GUYS Who Made A Fortune Selling...   \n",
      "24673  “FLUSH TARGET” Truck Will Travel To Every Stor...   \n",
      "24674  SEX ROULETTE PARTIES On The Rise…One Person Is...   \n",
      "24675  How TYSON FOODS Is DESTROYING Small Towns…Forc...   \n",
      "\n",
      "                                                    Body  Fake  Predictions  \n",
      "0      The head of a conservative Republican faction ...     0            0  \n",
      "1      Transgender people will be allowed for the fir...     0            0  \n",
      "2      The special counsel investigation of links bet...     0            0  \n",
      "3      Trump campaign adviser George Papadopoulos tol...     0            0  \n",
      "4      President Donald Trump called on the U.S. Post...     0            0  \n",
      "...                                                  ...   ...          ...  \n",
      "24671  The Democrat s war on mostly  ugly women Forme...     1            1  \n",
      "24672  Two white guys living in a state where 96% of ...     1            1  \n",
      "24673  This highly visible campaign has nothing to do...     1            1  \n",
      "24674  Culture rot The health professionals who will ...     1            1  \n",
      "24675  This is a story you won t likely find anywhere...     1            1  \n",
      "\n",
      "[24676 rows x 4 columns]\n"
     ]
    }
   ],
   "source": [
    "# Apply the trained model from beforehand to the unbalanced dataset\n",
    "\n",
    "# Vectorize the text in the new dataset using the same vectorizer \n",
    "new_features = vectorizer.transform(df_en_unbalanced['Titel'] + ' ' + df_en_unbalanced['Body'])\n",
    "\n",
    "# Make predictions using the trained Random Forest model\n",
    "new_predictions = model.predict(new_features)\n",
    "\n",
    "# Add the predictions to the new dataset DataFrame\n",
    "df_en_unbalanced['Predictions'] = new_predictions\n",
    "\n",
    "# Display the updated DataFrame with predictions\n",
    "print(df_en_unbalanced)\n"
   ]
  },
  {
   "cell_type": "code",
   "execution_count": 15,
   "id": "85bf866e",
   "metadata": {},
   "outputs": [
    {
     "name": "stdout",
     "output_type": "stream",
     "text": [
      "Accuracy: 0.9736991408656184\n"
     ]
    }
   ],
   "source": [
    "# Compute the accuracy of the predictions\n",
    "accuracy = accuracy_score(df_en_unbalanced['Fake'], new_predictions)\n",
    "print(\"Accuracy:\", accuracy)"
   ]
  }
 ],
 "metadata": {
  "kernelspec": {
   "display_name": "Python 3",
   "language": "python",
   "name": "python3"
  },
  "language_info": {
   "codemirror_mode": {
    "name": "ipython",
    "version": 3
   },
   "file_extension": ".py",
   "mimetype": "text/x-python",
   "name": "python",
   "nbconvert_exporter": "python",
   "pygments_lexer": "ipython3",
   "version": "3.8.8"
  }
 },
 "nbformat": 4,
 "nbformat_minor": 5
}
